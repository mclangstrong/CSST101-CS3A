{
  "nbformat": 4,
  "nbformat_minor": 0,
  "metadata": {
    "colab": {
      "provenance": []
    },
    "kernelspec": {
      "name": "python3",
      "display_name": "Python 3"
    },
    "language_info": {
      "name": "python"
    }
  },
  "cells": [
    {
      "cell_type": "markdown",
      "source": [
        "# **1. Basic Operations**"
      ],
      "metadata": {
        "id": "O0F2L1b8pm8v"
      }
    },
    {
      "cell_type": "code",
      "execution_count": null,
      "metadata": {
        "id": "-fiJc3J3iTiC"
      },
      "outputs": [],
      "source": [
        "def and_operation(p, q):\n",
        "    \"\"\"Logical conjunction (AND).\"\"\"\n",
        "    return p and q\n",
        "\n",
        "def or_operation(p, q):\n",
        "    \"\"\"Logical disjunction (OR).\"\"\"\n",
        "    return p or q\n",
        "\n",
        "def not_operation(p):\n",
        "    \"\"\"Logical negation (NOT).\"\"\"\n",
        "    return not p\n",
        "\n",
        "def implies_operation(p, q):\n",
        "    \"\"\"Logical implication (IMPLIES).\"\"\"\n",
        "    return not p or q"
      ]
    },
    {
      "cell_type": "markdown",
      "source": [
        "# **2. Evaluate Logical Statements**"
      ],
      "metadata": {
        "id": "JvcF2kNKpqqb"
      }
    },
    {
      "cell_type": "code",
      "source": [
        "def evaluate(statement, values):\n",
        "    \"\"\"Evaluate a logical statement based on given truth values.\"\"\"\n",
        "\n",
        "    statement = statement.replace('AND', 'and').replace('OR', 'or').replace('NOT', 'not')\n",
        "    statement = statement.replace('(', ' ( ').replace(')', ' ) ')\n",
        "\n",
        "    tokens = statement.split()\n",
        "\n",
        "    stack = []\n",
        "\n",
        "    for token in tokens:\n",
        "        if token in values:\n",
        "            stack.append(values[token])\n",
        "        elif token == 'not':\n",
        "            stack.append(not stack.pop())\n",
        "        elif token in ['and', 'or']:\n",
        "            right = stack.pop()\n",
        "            left = stack.pop()\n",
        "            if token == 'and':\n",
        "                stack.append(left and right)\n",
        "            elif token == 'or':\n",
        "                stack.append(left or right)\n",
        "        else:\n",
        "            raise ValueError(f\"Unknown token: {token}\")\n",
        "\n",
        "    return stack[0] if stack else None"
      ],
      "metadata": {
        "id": "QMX8S8gGpu9g"
      },
      "execution_count": null,
      "outputs": []
    },
    {
      "cell_type": "markdown",
      "source": [
        "# **Example Usage**"
      ],
      "metadata": {
        "id": "Ath0Q0Qcp1_Y"
      }
    },
    {
      "cell_type": "code",
      "source": [
        "def evaluate_expression(expression, values):\n",
        "    \"\"\"Evaluate a logical expression recursively based on given truth values.\"\"\"\n",
        "\n",
        "    # Helper function to parse and evaluate the expression\n",
        "    def parse(tokens):\n",
        "        token = tokens.pop(0)\n",
        "\n",
        "        if token == 'NOT':\n",
        "            return not parse(tokens)\n",
        "        elif token == '(':\n",
        "            result = evaluate(tokens)\n",
        "            tokens.pop(0)  # Remove the closing ')'\n",
        "            return result\n",
        "        elif token in values:\n",
        "            return values[token]\n",
        "        elif token in ['TRUE', 'FALSE']:\n",
        "            return token == 'TRUE'\n",
        "        else:\n",
        "            raise ValueError(f\"Unexpected token: {token}\")\n",
        "\n",
        "    # Evaluate the expression based on operator precedence\n",
        "    def evaluate(tokens):\n",
        "        result = parse(tokens)\n",
        "\n",
        "        while tokens:\n",
        "            token = tokens.pop(0)\n",
        "            if token == 'AND':\n",
        "                result = result and parse(tokens)\n",
        "            elif token == 'OR':\n",
        "                result = result or parse(tokens)\n",
        "            else:\n",
        "                tokens.insert(0, token)  # Push the token back if it's not an operator\n",
        "                break\n",
        "\n",
        "        return result\n",
        "\n",
        "    # Preprocess the expression\n",
        "    expression = expression.replace('AND', ' AND ').replace('OR', ' OR ').replace('NOT', 'NOT ')\n",
        "    tokens = expression.replace('(', ' ( ').replace(')', ' ) ').split()\n",
        "\n",
        "    return evaluate(tokens)\n",
        "\n",
        "# Example usage\n",
        "values = {'A': True, 'B': False, 'C': True}\n",
        "statement = '( A AND NOT B ) OR C'\n",
        "result = evaluate_expression(statement, values)\n",
        "print(f\"Result: {result}\")  # Output: Result: True"
      ],
      "metadata": {
        "id": "yAS_E5anp24n"
      },
      "execution_count": null,
      "outputs": []
    },
    {
      "cell_type": "markdown",
      "source": [
        "# **Predicate Logic with Quantifiers**\n",
        "**1. Universal Quantifier (∀)**\n",
        "The forall function checks if a given predicate holds true for all elements in a specified domain.\n",
        "\n",
        "**2. Existential Quantifier (∃)**\n",
        "The exists function checks if there is at least one element in the specified domain for which the predicate holds true.\n",
        "Implementation\n",
        "Here’s how you can implement these functions in Python:"
      ],
      "metadata": {
        "id": "IcNWZ5s_qfw0"
      }
    },
    {
      "cell_type": "code",
      "source": [
        "def forall(predicate, domain):\n",
        "    \"\"\"Evaluate the universal quantifier (FOR ALL).\"\"\"\n",
        "    return all(predicate(x) for x in domain)\n",
        "\n",
        "def exists(predicate, domain):\n",
        "    \"\"\"Evaluate the existential quantifier (EXISTS).\"\"\"\n",
        "    return any(predicate(x) for x in domain)"
      ],
      "metadata": {
        "id": "QAmduvjbqloi"
      },
      "execution_count": 2,
      "outputs": []
    },
    {
      "cell_type": "markdown",
      "source": [
        "# **Example Usage of Quantifiers**"
      ],
      "metadata": {
        "id": "KWcv4xuZqn9e"
      }
    },
    {
      "cell_type": "code",
      "source": [
        "# Define a predicate function\n",
        "def is_even(x):\n",
        "    \"\"\"Predicate to check if a number is even.\"\"\"\n",
        "    return x % 2 == 0\n",
        "\n",
        "def is_positive(x):\n",
        "    \"\"\"Predicate to check if a number is positive.\"\"\"\n",
        "    return x > 0\n",
        "\n",
        "# Define a domain\n",
        "domain = range(-5, 6)  # Numbers from -5 to 5\n",
        "\n",
        "# Evaluate universal quantifier\n",
        "all_even = forall(is_even, domain)  # Should return False\n",
        "print(f\"All numbers are even: {all_even}\")\n",
        "\n",
        "# Evaluate existential quantifier\n",
        "any_even = exists(is_even, domain)  # Should return True\n",
        "print(f\"Any number is even: {any_even}\")\n",
        "\n",
        "# Evaluate universal quantifier for positive numbers\n",
        "all_positive = forall(is_positive, domain)  # Should return False\n",
        "print(f\"All numbers are positive: {all_positive}\")\n",
        "\n",
        "# Evaluate existential quantifier for positive numbers\n",
        "any_positive = exists(is_positive, domain)  # Should return True\n",
        "print(f\"Any number is positive: {any_positive}\")"
      ],
      "metadata": {
        "colab": {
          "base_uri": "https://localhost:8080/",
          "height": 211
        },
        "id": "C3yTKcWHqrQT",
        "outputId": "e69bf31c-b29a-4127-95af-fab08f59fd69"
      },
      "execution_count": 1,
      "outputs": [
        {
          "output_type": "error",
          "ename": "NameError",
          "evalue": "name 'forall' is not defined",
          "traceback": [
            "\u001b[0;31m---------------------------------------------------------------------------\u001b[0m",
            "\u001b[0;31mNameError\u001b[0m                                 Traceback (most recent call last)",
            "\u001b[0;32m<ipython-input-1-1a5c69862462>\u001b[0m in \u001b[0;36m<cell line: 14>\u001b[0;34m()\u001b[0m\n\u001b[1;32m     12\u001b[0m \u001b[0;34m\u001b[0m\u001b[0m\n\u001b[1;32m     13\u001b[0m \u001b[0;31m# Evaluate universal quantifier\u001b[0m\u001b[0;34m\u001b[0m\u001b[0;34m\u001b[0m\u001b[0m\n\u001b[0;32m---> 14\u001b[0;31m \u001b[0mall_even\u001b[0m \u001b[0;34m=\u001b[0m \u001b[0mforall\u001b[0m\u001b[0;34m(\u001b[0m\u001b[0mis_even\u001b[0m\u001b[0;34m,\u001b[0m \u001b[0mdomain\u001b[0m\u001b[0;34m)\u001b[0m  \u001b[0;31m# Should return False\u001b[0m\u001b[0;34m\u001b[0m\u001b[0;34m\u001b[0m\u001b[0m\n\u001b[0m\u001b[1;32m     15\u001b[0m \u001b[0mprint\u001b[0m\u001b[0;34m(\u001b[0m\u001b[0;34mf\"All numbers are even: {all_even}\"\u001b[0m\u001b[0;34m)\u001b[0m\u001b[0;34m\u001b[0m\u001b[0;34m\u001b[0m\u001b[0m\n\u001b[1;32m     16\u001b[0m \u001b[0;34m\u001b[0m\u001b[0m\n",
            "\u001b[0;31mNameError\u001b[0m: name 'forall' is not defined"
          ]
        }
      ]
    },
    {
      "cell_type": "markdown",
      "source": [
        "# **Conclusion**\n",
        "\n",
        "The forall and exists functions enable efficient evaluation of predicate logic statements within a defined domain. You can create any predicate function that accepts a single argument and returns a boolean value, allowing you to assess various conditions across diverse data sets. This framework offers a versatile approach to implementing predicate logic in Python."
      ],
      "metadata": {
        "id": "AU7HsZk0qxEv"
      }
    },
    {
      "cell_type": "markdown",
      "source": [
        "# **Scenario: Enhanced Chatbot with Logical Conjunctions and Predicates**\n",
        "**1. Define the Scenario**\n",
        "In this scenario, we will create a chatbot that can respond to user input based on multiple conditions. The chatbot will:\n",
        "Respond to greetings.\n",
        "Ask about the user's day and respond based on the user's mood.\n",
        "Provide a farewell message when the conversation ends.\n",
        "Use logical conjunctions to determine responses based on the user's input.\n",
        "\n",
        "**2. Implementing the Chatbot Logic**\n",
        "We will implement the chatbot using a class structure, incorporating logical conjunctions (AND, OR) and predicates to handle user input."
      ],
      "metadata": {
        "id": "wZo0YM8juK18"
      }
    },
    {
      "cell_type": "code",
      "source": [
        "class EnhancedChatbot:\n",
        "    def __init__(self):\n",
        "        self.greetings = [\"hello\", \"hi\", \"hey\"]\n",
        "        self.farewells = [\"bye\",\"thankyou\" \"goodbye\", \"see you later\"]\n",
        "        self.moods = [\"good\", \"great\", \"fine\", \"bad\", \"sad\"]\n",
        "\n",
        "    def respond_to_greeting(self):\n",
        "        return \"Hello! How was your day?\"\n",
        "\n",
        "    def ask_about_day(self):\n",
        "        return \"How is your day going?\"\n",
        "\n",
        "    def respond_to_mood(self, mood):\n",
        "        if mood in [\"good\", \"great\", \"fine\"]:\n",
        "            return f\"That's wonderful! I'm glad to hear that you're feeling {mood}.\"\n",
        "        elif mood in [\"bad\", \"sad\"]:\n",
        "            return f\"I'm sorry to hear that you're feeling {mood}. If you want to talk about it, I'm here to listen.\"\n",
        "        else:\n",
        "            return \"It's interesting to hear about your mood!\"\n",
        "\n",
        "    def farewell(self):\n",
        "        return \"Goodbye! Have a wonderful day!\"\n",
        "\n",
        "    def chat(self):\n",
        "        print(self.respond_to_greeting())\n",
        "\n",
        "        while True:\n",
        "            user_input = input(\"You: \").lower()\n",
        "\n",
        "            if any(greeting in user_input for greeting in self.greetings):\n",
        "                print(self.respond_to_greeting())\n",
        "            elif \"how is your day\" in user_input:\n",
        "                print(self.ask_about_day())\n",
        "            elif any(mood in user_input for mood in self.moods):\n",
        "                # Check for mood and respond accordingly\n",
        "                for mood in self.moods:\n",
        "                    if mood in user_input:\n",
        "                        print(self.respond_to_mood(mood))\n",
        "                        break\n",
        "            elif any(farewell in user_input for farewell in self.farewells):\n",
        "                print(self.farewell())\n",
        "                break\n",
        "            else:\n",
        "                print(\"I'm sorry, I didn't understand that. Can you say it differently?\")\n",
        "\n",
        "# Example usage\n",
        "if __name__ == \"__main__\":\n",
        "    chatbot = EnhancedChatbot()\n",
        "    chatbot.chat()"
      ],
      "metadata": {
        "id": "OGQzEDXfuRKt",
        "colab": {
          "base_uri": "https://localhost:8080/"
        },
        "outputId": "09322e5b-c7ce-47a6-a85e-d6bad7a47ba3"
      },
      "execution_count": null,
      "outputs": [
        {
          "output_type": "stream",
          "name": "stdout",
          "text": [
            "Hello! How was your day?\n",
            "You: good\n",
            "That's wonderful! I'm glad to hear that you're feeling good.\n",
            "You: thankyou\n",
            "I'm sorry, I didn't understand that. Can you say it differently?\n"
          ]
        }
      ]
    },
    {
      "cell_type": "markdown",
      "source": [
        "# **Explanation**\n",
        "The EnhancedChatbot class defines a friendly chatbot that recognizes greetings, asks about the user's day, responds to positive or negative moods with appropriate messages, and provides a goodbye when the conversation ends, using simple logic to determine its responses based on user input.\n",
        "# **Conclusion**\n",
        "This implementation provides a more sophisticated chatbot that utilizes logical conjunctions and predicates to enhance its decision-making capabilities. The chatbot can respond to various moods and handle multiple conditions in user input, making it a more engaging conversational partner. Feel free to expand and customize it further!"
      ],
      "metadata": {
        "id": "8bwqn3ghuXqi"
      }
    }
  ]
}