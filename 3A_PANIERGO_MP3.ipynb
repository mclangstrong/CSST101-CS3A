{
  "nbformat": 4,
  "nbformat_minor": 0,
  "metadata": {
    "colab": {
      "provenance": []
    },
    "kernelspec": {
      "name": "python3",
      "display_name": "Python 3"
    },
    "language_info": {
      "name": "python"
    }
  },
  "cells": [
    {
      "cell_type": "markdown",
      "source": [
        "# **Machine Problem: Interactive Probability and Decision-Making in AI**"
      ],
      "metadata": {
        "id": "lBmw9maPh3Oj"
      }
    },
    {
      "cell_type": "markdown",
      "source": [
        "**Part 1: Implement Basic Probability Calculations**"
      ],
      "metadata": {
        "id": "-oWXkUDEh8NA"
      }
    },
    {
      "cell_type": "code",
      "source": [
        "def joint_probability(p_A,p_B):\n",
        "  return p_A * p_B\n",
        "\n",
        "\n",
        "def marginal_probability (p_A,p_B):\n",
        "  return p_A + p_B - joint_probability(p_A,p_B)\n",
        "\n",
        "\n",
        "def conditional_probability (p_B_given_A,p_A,p_B):\n",
        "  return (p_B_given_A * p_A) / p_B\n",
        "\n",
        "p_A = 0.3\n",
        "p_B = 0.4\n",
        "p_B_given_A = 0.8\n",
        "\n",
        "print(f\"Joint Probability: {joint_probability (p_A,p_B)}\")\n",
        "print(f\"Marginal Probability: {marginal_probability (p_A, p_B)}\")\n",
        "print(f\"Conditional Probability: {conditional_probability(p_B_given_A, p_A, p_B)}\")"
      ],
      "metadata": {
        "id": "VU0OwO8QiB4J",
        "colab": {
          "base_uri": "https://localhost:8080/"
        },
        "outputId": "dc542e3f-098d-4472-af6f-874538a89a73"
      },
      "execution_count": 3,
      "outputs": [
        {
          "output_type": "stream",
          "name": "stdout",
          "text": [
            "Joint Probability: 0.12\n",
            "Marginal Probability: 0.58\n",
            "Conditional Probability: 0.6\n"
          ]
        }
      ]
    },
    {
      "cell_type": "markdown",
      "source": [
        "**Part 2: Bayesian Inference for Real-World Scenarios**"
      ],
      "metadata": {
        "id": "NMXQ4LZnipTy"
      }
    },
    {
      "cell_type": "code",
      "source": [
        "def bayesian_inference(prior, likelihood_positive_given_disease, likelihood_positive):\n",
        "    posterior = (likelihood_positive_given_disease * prior) / likelihood_positive\n",
        "    return posterior\n",
        "\n",
        "prior_disease = 0.01\n",
        "likelihood_positive_given_disease = 0.9\n",
        "likelihood_positive = 0.05\n",
        "\n",
        "posterior_disease = bayesian_inference(prior_disease, likelihood_positive_given_disease, likelihood_positive)\n",
        "print(f\"Posterior probability of disease given positive test: {posterior_disease:.2f}\")"
      ],
      "metadata": {
        "colab": {
          "base_uri": "https://localhost:8080/"
        },
        "id": "1bhzJNbmi_Xx",
        "outputId": "57e6f565-cdcd-47cb-d23a-9b1de2ca0a41"
      },
      "execution_count": 12,
      "outputs": [
        {
          "output_type": "stream",
          "name": "stdout",
          "text": [
            "Posterior probability of disease given positive test: 0.18\n"
          ]
        }
      ]
    },
    {
      "cell_type": "markdown",
      "source": [
        "**Part 3: Simulate Decision-Making Under Uncertainty**"
      ],
      "metadata": {
        "id": "ttJ5DjOjiw8A"
      }
    },
    {
      "cell_type": "code",
      "source": [
        "import numpy as np\n",
        "\n",
        "def simulate_decision(num_simulations, p_success, reward_success, reward_failure):\n",
        "  outcomes = []\n",
        "\n",
        "  for _ in range(num_simulations):\n",
        "    if np.random.rand() < p_success:\n",
        "      outcomes.append(reward_success)\n",
        "    else:\n",
        "      outcomes.append(reward_failure)\n",
        "\n",
        "  return np.mean(outcomes)\n",
        "\n",
        "p_success = 0.7\n",
        "reward_success = 1000\n",
        "reward_failure = -500\n",
        "\n",
        "average_outcome = simulate_decision(1000, p_success, reward_success, reward_failure)\n",
        "print(f\"Expected value of decision: {average_outcome}\")"
      ],
      "metadata": {
        "colab": {
          "base_uri": "https://localhost:8080/"
        },
        "id": "c2zdepScjBJh",
        "outputId": "3ba2c4af-2059-40fb-a3af-3ebe4738b7c9"
      },
      "execution_count": 18,
      "outputs": [
        {
          "output_type": "stream",
          "name": "stdout",
          "text": [
            "Expected value of decision: 524.5\n"
          ]
        }
      ]
    },
    {
      "cell_type": "markdown",
      "source": [
        "**Part 4: Visualize Probability Distributions**"
      ],
      "metadata": {
        "id": "jI19TcqZi04R"
      }
    },
    {
      "cell_type": "code",
      "source": [
        "p_purchase_given_cart = 0.8\n",
        "p_cart = 0.6\n",
        "\n",
        "p_purchase = conditional_probability(p_purchase_given_cart, p_cart, 1)\n",
        "print(f\"Probability of purchase: {p_purchase}\")"
      ],
      "metadata": {
        "colab": {
          "base_uri": "https://localhost:8080/"
        },
        "id": "ihprgDfJjBoy",
        "outputId": "73160b7a-2113-4f1d-d2a3-627e6e8121d1"
      },
      "execution_count": 20,
      "outputs": [
        {
          "output_type": "stream",
          "name": "stdout",
          "text": [
            "Probability of purchase: 0.48\n"
          ]
        }
      ]
    },
    {
      "cell_type": "markdown",
      "source": [
        "**Part 5: Real-World Scenario Prediction**"
      ],
      "metadata": {
        "id": "vOwZ5jhsi31Z"
      }
    },
    {
      "cell_type": "code",
      "source": [
        "import numpy as np\n",
        "import matplotlib.pyplot as plt\n",
        "\n",
        "n_trials = 1000\n",
        "p_head = 0.5\n",
        "binomial_distributions = np.random.binomial(n=1, p=p_head, size=n_trials)\n",
        "\n",
        "plt.hist(binomial_distributions, bins=2)\n",
        "plt.title(\"Binomial Distribution (Coin Flips)\")\n",
        "plt.show()"
      ],
      "metadata": {
        "colab": {
          "base_uri": "https://localhost:8080/",
          "height": 452
        },
        "id": "QuYiCZ-XjCGx",
        "outputId": "d80a99d6-fed5-4b07-a6bb-be2f0645e192"
      },
      "execution_count": 21,
      "outputs": [
        {
          "output_type": "display_data",
          "data": {
            "text/plain": [
              "<Figure size 640x480 with 1 Axes>"
            ],
            "image/png": "[encoded data removed]"
          },
          "metadata": {}
        }
      ]
    }
  ]
}