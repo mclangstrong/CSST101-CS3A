{
  "nbformat": 4,
  "nbformat_minor": 0,
  "metadata": {
    "colab": {
      "provenance": []
    },
    "kernelspec": {
      "name": "python3",
      "display_name": "Python 3"
    },
    "language_info": {
      "name": "python"
    }
  },
  "cells": [
    {
      "cell_type": "markdown",
      "source": [
        "# **Machine Problem: Bayesian Network for Healthcare Diagnosis**"
      ],
      "metadata": {
        "id": "YULtaDVrJ7Na"
      }
    },
    {
      "cell_type": "markdown",
      "source": [
        "# Exercise 1: Setting Up the Environment"
      ],
      "metadata": {
        "id": "bT93zN8eJ_4i"
      }
    },
    {
      "cell_type": "markdown",
      "source": [
        "1. Install Libraries"
      ],
      "metadata": {
        "id": "78armL3QKE9x"
      }
    },
    {
      "cell_type": "code",
      "source": [
        "!pip install pgmpy"
      ],
      "metadata": {
        "colab": {
          "base_uri": "https://localhost:8080/"
        },
        "collapsed": true,
        "id": "L8C_H8m9KJKq",
        "outputId": "d06867f7-9318-4b7d-b01f-619c56029a10"
      },
      "execution_count": 1,
      "outputs": [
        {
          "output_type": "stream",
          "name": "stdout",
          "text": [
            "Collecting pgmpy\n",
            "  Downloading pgmpy-0.1.26-py3-none-any.whl.metadata (9.1 kB)\n",
            "Requirement already satisfied: networkx in /usr/local/lib/python3.10/dist-packages (from pgmpy) (3.4.1)\n",
            "Requirement already satisfied: numpy in /usr/local/lib/python3.10/dist-packages (from pgmpy) (1.26.4)\n",
            "Requirement already satisfied: scipy in /usr/local/lib/python3.10/dist-packages (from pgmpy) (1.13.1)\n",
            "Requirement already satisfied: scikit-learn in /usr/local/lib/python3.10/dist-packages (from pgmpy) (1.5.2)\n",
            "Requirement already satisfied: pandas in /usr/local/lib/python3.10/dist-packages (from pgmpy) (2.2.2)\n",
            "Requirement already satisfied: pyparsing in /usr/local/lib/python3.10/dist-packages (from pgmpy) (3.2.0)\n",
            "Requirement already satisfied: torch in /usr/local/lib/python3.10/dist-packages (from pgmpy) (2.4.1+cu121)\n",
            "Requirement already satisfied: statsmodels in /usr/local/lib/python3.10/dist-packages (from pgmpy) (0.14.4)\n",
            "Requirement already satisfied: tqdm in /usr/local/lib/python3.10/dist-packages (from pgmpy) (4.66.5)\n",
            "Requirement already satisfied: joblib in /usr/local/lib/python3.10/dist-packages (from pgmpy) (1.4.2)\n",
            "Requirement already satisfied: opt-einsum in /usr/local/lib/python3.10/dist-packages (from pgmpy) (3.4.0)\n",
            "Requirement already satisfied: xgboost in /usr/local/lib/python3.10/dist-packages (from pgmpy) (2.1.1)\n",
            "Requirement already satisfied: google-generativeai in /usr/local/lib/python3.10/dist-packages (from pgmpy) (0.8.3)\n",
            "Requirement already satisfied: google-ai-generativelanguage==0.6.10 in /usr/local/lib/python3.10/dist-packages (from google-generativeai->pgmpy) (0.6.10)\n",
            "Requirement already satisfied: google-api-core in /usr/local/lib/python3.10/dist-packages (from google-generativeai->pgmpy) (2.19.2)\n",
            "Requirement already satisfied: google-api-python-client in /usr/local/lib/python3.10/dist-packages (from google-generativeai->pgmpy) (2.137.0)\n",
            "Requirement already satisfied: google-auth>=2.15.0 in /usr/local/lib/python3.10/dist-packages (from google-generativeai->pgmpy) (2.27.0)\n",
            "Requirement already satisfied: protobuf in /usr/local/lib/python3.10/dist-packages (from google-generativeai->pgmpy) (3.20.3)\n",
            "Requirement already satisfied: pydantic in /usr/local/lib/python3.10/dist-packages (from google-generativeai->pgmpy) (2.9.2)\n",
            "Requirement already satisfied: typing-extensions in /usr/local/lib/python3.10/dist-packages (from google-generativeai->pgmpy) (4.12.2)\n",
            "Requirement already satisfied: proto-plus<2.0.0dev,>=1.22.3 in /usr/local/lib/python3.10/dist-packages (from google-ai-generativelanguage==0.6.10->google-generativeai->pgmpy) (1.24.0)\n",
            "Requirement already satisfied: python-dateutil>=2.8.2 in /usr/local/lib/python3.10/dist-packages (from pandas->pgmpy) (2.8.2)\n",
            "Requirement already satisfied: pytz>=2020.1 in /usr/local/lib/python3.10/dist-packages (from pandas->pgmpy) (2024.2)\n",
            "Requirement already satisfied: tzdata>=2022.7 in /usr/local/lib/python3.10/dist-packages (from pandas->pgmpy) (2024.2)\n",
            "Requirement already satisfied: threadpoolctl>=3.1.0 in /usr/local/lib/python3.10/dist-packages (from scikit-learn->pgmpy) (3.5.0)\n",
            "Requirement already satisfied: patsy>=0.5.6 in /usr/local/lib/python3.10/dist-packages (from statsmodels->pgmpy) (0.5.6)\n",
            "Requirement already satisfied: packaging>=21.3 in /usr/local/lib/python3.10/dist-packages (from statsmodels->pgmpy) (24.1)\n",
            "Requirement already satisfied: filelock in /usr/local/lib/python3.10/dist-packages (from torch->pgmpy) (3.16.1)\n",
            "Requirement already satisfied: sympy in /usr/local/lib/python3.10/dist-packages (from torch->pgmpy) (1.13.3)\n",
            "Requirement already satisfied: jinja2 in /usr/local/lib/python3.10/dist-packages (from torch->pgmpy) (3.1.4)\n",
            "Requirement already satisfied: fsspec in /usr/local/lib/python3.10/dist-packages (from torch->pgmpy) (2024.6.1)\n",
            "Requirement already satisfied: nvidia-nccl-cu12 in /usr/local/lib/python3.10/dist-packages (from xgboost->pgmpy) (2.23.4)\n",
            "Requirement already satisfied: googleapis-common-protos<2.0.dev0,>=1.56.2 in /usr/local/lib/python3.10/dist-packages (from google-api-core->google-generativeai->pgmpy) (1.65.0)\n",
            "Requirement already satisfied: requests<3.0.0.dev0,>=2.18.0 in /usr/local/lib/python3.10/dist-packages (from google-api-core->google-generativeai->pgmpy) (2.32.3)\n",
            "Requirement already satisfied: cachetools<6.0,>=2.0.0 in /usr/local/lib/python3.10/dist-packages (from google-auth>=2.15.0->google-generativeai->pgmpy) (5.5.0)\n",
            "Requirement already satisfied: pyasn1-modules>=0.2.1 in /usr/local/lib/python3.10/dist-packages (from google-auth>=2.15.0->google-generativeai->pgmpy) (0.4.1)\n",
            "Requirement already satisfied: rsa<5,>=3.1.4 in /usr/local/lib/python3.10/dist-packages (from google-auth>=2.15.0->google-generativeai->pgmpy) (4.9)\n",
            "Requirement already satisfied: six in /usr/local/lib/python3.10/dist-packages (from patsy>=0.5.6->statsmodels->pgmpy) (1.16.0)\n",
            "Requirement already satisfied: httplib2<1.dev0,>=0.19.0 in /usr/local/lib/python3.10/dist-packages (from google-api-python-client->google-generativeai->pgmpy) (0.22.0)\n",
            "Requirement already satisfied: google-auth-httplib2<1.0.0,>=0.2.0 in /usr/local/lib/python3.10/dist-packages (from google-api-python-client->google-generativeai->pgmpy) (0.2.0)\n",
            "Requirement already satisfied: uritemplate<5,>=3.0.1 in /usr/local/lib/python3.10/dist-packages (from google-api-python-client->google-generativeai->pgmpy) (4.1.1)\n",
            "Requirement already satisfied: MarkupSafe>=2.0 in /usr/local/lib/python3.10/dist-packages (from jinja2->torch->pgmpy) (3.0.1)\n",
            "Requirement already satisfied: annotated-types>=0.6.0 in /usr/local/lib/python3.10/dist-packages (from pydantic->google-generativeai->pgmpy) (0.7.0)\n",
            "Requirement already satisfied: pydantic-core==2.23.4 in /usr/local/lib/python3.10/dist-packages (from pydantic->google-generativeai->pgmpy) (2.23.4)\n",
            "Requirement already satisfied: mpmath<1.4,>=1.1.0 in /usr/local/lib/python3.10/dist-packages (from sympy->torch->pgmpy) (1.3.0)\n",
            "Requirement already satisfied: grpcio<2.0dev,>=1.33.2 in /usr/local/lib/python3.10/dist-packages (from google-api-core[grpc]!=2.0.*,!=2.1.*,!=2.10.*,!=2.2.*,!=2.3.*,!=2.4.*,!=2.5.*,!=2.6.*,!=2.7.*,!=2.8.*,!=2.9.*,<3.0.0dev,>=1.34.1->google-ai-generativelanguage==0.6.10->google-generativeai->pgmpy) (1.64.1)\n",
            "Requirement already satisfied: grpcio-status<2.0.dev0,>=1.33.2 in /usr/local/lib/python3.10/dist-packages (from google-api-core[grpc]!=2.0.*,!=2.1.*,!=2.10.*,!=2.2.*,!=2.3.*,!=2.4.*,!=2.5.*,!=2.6.*,!=2.7.*,!=2.8.*,!=2.9.*,<3.0.0dev,>=1.34.1->google-ai-generativelanguage==0.6.10->google-generativeai->pgmpy) (1.48.2)\n",
            "Requirement already satisfied: pyasn1<0.7.0,>=0.4.6 in /usr/local/lib/python3.10/dist-packages (from pyasn1-modules>=0.2.1->google-auth>=2.15.0->google-generativeai->pgmpy) (0.6.1)\n",
            "Requirement already satisfied: charset-normalizer<4,>=2 in /usr/local/lib/python3.10/dist-packages (from requests<3.0.0.dev0,>=2.18.0->google-api-core->google-generativeai->pgmpy) (3.4.0)\n",
            "Requirement already satisfied: idna<4,>=2.5 in /usr/local/lib/python3.10/dist-packages (from requests<3.0.0.dev0,>=2.18.0->google-api-core->google-generativeai->pgmpy) (3.10)\n",
            "Requirement already satisfied: urllib3<3,>=1.21.1 in /usr/local/lib/python3.10/dist-packages (from requests<3.0.0.dev0,>=2.18.0->google-api-core->google-generativeai->pgmpy) (2.2.3)\n",
            "Requirement already satisfied: certifi>=2017.4.17 in /usr/local/lib/python3.10/dist-packages (from requests<3.0.0.dev0,>=2.18.0->google-api-core->google-generativeai->pgmpy) (2024.8.30)\n",
            "Downloading pgmpy-0.1.26-py3-none-any.whl (2.0 MB)\n",
            "\u001b[2K   \u001b[90m━━━━━━━━━━━━━━━━━━━━━━━━━━━━━━━━━━━━━━━━\u001b[0m \u001b[32m2.0/2.0 MB\u001b[0m \u001b[31m14.0 MB/s\u001b[0m eta \u001b[36m0:00:00\u001b[0m\n",
            "\u001b[?25hInstalling collected packages: pgmpy\n",
            "Successfully installed pgmpy-0.1.26\n"
          ]
        }
      ]
    },
    {
      "cell_type": "markdown",
      "source": [
        "2. Import Libraries"
      ],
      "metadata": {
        "id": "2dr1ake6Mj7a"
      }
    },
    {
      "cell_type": "code",
      "source": [
        "import numpy as np\n",
        "import pandas as pd\n",
        "import networkx as nx\n",
        "import matplotlib.pyplot as plt\n",
        "from pgmpy.models import BayesianNetwork\n",
        "from pgmpy.factors.discrete import TabularCPD\n",
        "from pgmpy.inference import VariableElimination"
      ],
      "metadata": {
        "id": "1ckqtSgUMqAJ"
      },
      "execution_count": 2,
      "outputs": []
    },
    {
      "cell_type": "markdown",
      "source": [
        "# Exercise 2: Define the Bayesian Network Structure"
      ],
      "metadata": {
        "id": "BxkVT-vqM2Eh"
      }
    },
    {
      "cell_type": "markdown",
      "source": [
        "1. Define the Variables"
      ],
      "metadata": {
        "id": "sVqMOg8XM6EZ"
      }
    },
    {
      "cell_type": "code",
      "source": [
        "model = BayesianNetwork([\n",
        "    ('Age', 'HeartDisease'),\n",
        "    ('Smoking', 'HeartDisease'),\n",
        "    ('Exercise', 'HeartDisease'),\n",
        "    ('Cholesterol', 'HeartDisease'),\n",
        "    ('BloodPressure', 'HeartDisease'),\n",
        "    ('HeartDisease', 'ChestPain'),\n",
        "    ('HeartDisease', 'ECGResult')\n",
        "])\n",
        "\n",
        "print(model.edges())"
      ],
      "metadata": {
        "colab": {
          "base_uri": "https://localhost:8080/"
        },
        "id": "BObiVEo4M8Jh",
        "outputId": "84d3915d-621e-4aa6-99d2-d0759009c34d"
      },
      "execution_count": 3,
      "outputs": [
        {
          "output_type": "stream",
          "name": "stdout",
          "text": [
            "[('Age', 'HeartDisease'), ('HeartDisease', 'ChestPain'), ('HeartDisease', 'ECGResult'), ('Smoking', 'HeartDisease'), ('Exercise', 'HeartDisease'), ('Cholesterol', 'HeartDisease'), ('BloodPressure', 'HeartDisease')]\n"
          ]
        }
      ]
    },
    {
      "cell_type": "markdown",
      "source": [
        "2.Define the Relationships"
      ],
      "metadata": {
        "id": "tLxmaCEGNBnJ"
      }
    },
    {
      "cell_type": "markdown",
      "source": [
        "Variables: These include Age, Smoking, Exercise, Cholesterol, BloodPressure, HeartDisease, ChestPain, and ECGResult.\n",
        "\n",
        "Dependencies:\n",
        "\n",
        "* HeartDisease is influenced by Age, Smoking, Exercise, Cholesterol, and BloodPressure.\n",
        "* ChestPain is directly dependent on HeartDisease.\n",
        "* ECGResult is also directly dependent on HeartDisease. This code defines the structure of the Bayesian Network, representing"
      ],
      "metadata": {
        "id": "I_tl87R_NLTJ"
      }
    },
    {
      "cell_type": "markdown",
      "source": [
        "# Exercise 3: Define Conditional Probability Tables (CPTs)"
      ],
      "metadata": {
        "id": "OrPESSm8Nidh"
      }
    },
    {
      "cell_type": "markdown",
      "source": [
        "1.Create CPTs Using pgmpy"
      ],
      "metadata": {
        "id": "vqIGYlcHNlQ5"
      }
    },
    {
      "cell_type": "code",
      "source": [
        "# Age: (Young, Middle-aged, Old)\n",
        "cpd_age = TabularCPD(variable='Age', variable_card=3, values=[[0.3], [0.4], [0.3]])\n",
        "\n",
        "# Smoking: (Yes, No)\n",
        "cpd_smoking = TabularCPD(variable='Smoking', variable_card=2, values=[[0.7], [0.3]])\n",
        "\n",
        "# Exercise: (Regular, None)\n",
        "cpd_exercise = TabularCPD(variable='Exercise', variable_card=2, values=[[0.6], [0.4]])\n",
        "\n",
        "# Cholesterol: (High, Normal)\n",
        "cpd_cholesterol = TabularCPD(variable='Cholesterol', variable_card=2, values=[[0.5], [0.5]])\n",
        "\n",
        "# Blood Pressure: (High, Normal)\n",
        "cpd_blood_pressure = TabularCPD(variable='BloodPressure', variable_card=2, values=[[0.4], [0.6]])\n",
        "\n",
        "# Heart Disease: Depends on Age, Smoking, Exercise, Cholesterol, and Blood Pressure\n",
        "# Hypothetical probabilities for Heart Disease based on combinations of evidence\n",
        "cpd_heart_disease = TabularCPD(variable='HeartDisease', variable_card=2,\n",
        "                               values=[\n",
        "                                   # Probability of Heart Disease = No (0) - 48 values\n",
        "                                   [0.9, 0.8, 0.7, 0.6, 0.8, 0.7, 0.6, 0.5, 0.7, 0.6, 0.5, 0.4, 0.6, 0.5, 0.4, 0.3,\n",
        "                                    0.8, 0.7, 0.6, 0.5, 0.7, 0.6, 0.5, 0.4, 0.6, 0.5, 0.4, 0.3, 0.5, 0.4, 0.3, 0.2,\n",
        "                                    0.7, 0.6, 0.5, 0.4, 0.6, 0.5, 0.4, 0.3, 0.5, 0.4, 0.3, 0.2, 0.4, 0.3, 0.2, 0.1],\n",
        "                                   # Probability of Heart Disease = Yes (1) - 48 values\n",
        "                                   [0.1, 0.2, 0.3, 0.4, 0.2, 0.3, 0.4, 0.5, 0.3, 0.4, 0.5, 0.6, 0.4, 0.5, 0.6, 0.7,\n",
        "                                    0.2, 0.3, 0.4, 0.5, 0.3, 0.4, 0.5, 0.6, 0.4, 0.5, 0.6, 0.7, 0.5, 0.6, 0.7, 0.8,\n",
        "                                    0.3, 0.4, 0.5, 0.6, 0.4, 0.5, 0.6, 0.7, 0.5, 0.6, 0.7, 0.8, 0.6, 0.7, 0.8, 0.9]\n",
        "                               ],\n",
        "                               evidence=['Age', 'Smoking', 'Exercise', 'Cholesterol', 'BloodPressure'],\n",
        "                               evidence_card=[3, 2, 2, 2, 2])\n",
        "\n",
        "# Chest Pain: Depends on Heart Disease\n",
        "cpd_chest_pain = TabularCPD(variable='ChestPain', variable_card=2,\n",
        "                            values=[\n",
        "                                # Probability of Chest Pain = No (0)\n",
        "                                [0.9, 0.3],  # If no heart disease\n",
        "                                # Probability of Chest Pain = Yes (1)\n",
        "                                [0.1, 0.7]   # If heart disease\n",
        "                            ],\n",
        "                            evidence=['HeartDisease'], evidence_card=[2])\n",
        "\n",
        "# ECG Result: Depends on Heart Disease\n",
        "cpd_ecg_result = TabularCPD(variable='ECGResult', variable_card=2,\n",
        "                            values=[\n",
        "                                # Probability of ECG Result = Normal (0)\n",
        "                                [0.85, 0.3],  # If no heart disease\n",
        "                                # Probability of ECG Result = Abnormal (1)\n",
        "                                [0.15, 0.7]   # If heart disease\n",
        "                            ],\n",
        "                            evidence=['HeartDisease'], evidence_card=[2])\n",
        "\n",
        "# Adding CPDs to the model\n",
        "model.add_cpds(cpd_age, cpd_smoking, cpd_exercise, cpd_cholesterol, cpd_blood_pressure,\n",
        "               cpd_heart_disease, cpd_chest_pain, cpd_ecg_result)\n",
        "\n",
        "# Check if the model is valid\n",
        "assert model.check_model(), \"The model structure or CPDs are incorrect!\""
      ],
      "metadata": {
        "id": "g238DjV9Nnc6"
      },
      "execution_count": 4,
      "outputs": []
    },
    {
      "cell_type": "markdown",
      "source": [
        "# Exercise 4: Inference in the Bayesian Network"
      ],
      "metadata": {
        "id": "7FUV8d_HN_8Z"
      }
    },
    {
      "cell_type": "markdown",
      "source": [
        "1. Perform Probabilistic Inference"
      ],
      "metadata": {
        "id": "BYqOx-5cOJbR"
      }
    },
    {
      "cell_type": "code",
      "source": [
        "infer = VariableElimination(model)\n",
        "\n",
        "query_1 = infer.query(variables=['HeartDisease'],\n",
        "                      evidence={'Age': 1, 'Smoking': 1, 'Cholesterol': 1, 'BloodPressure': 1})\n",
        "print(query_1)\n",
        "\n",
        "query_2 = infer.query(variables=['ECGResult'], evidence={'ChestPain': 1})\n",
        "print(query_2)"
      ],
      "metadata": {
        "colab": {
          "base_uri": "https://localhost:8080/"
        },
        "id": "Jv7QYfR8OT_R",
        "outputId": "f8b2a644-0121-481c-c57f-7eba3e4c17b8"
      },
      "execution_count": 5,
      "outputs": [
        {
          "output_type": "stream",
          "name": "stdout",
          "text": [
            "+-----------------+---------------------+\n",
            "| HeartDisease    |   phi(HeartDisease) |\n",
            "+=================+=====================+\n",
            "| HeartDisease(0) |              0.2600 |\n",
            "+-----------------+---------------------+\n",
            "| HeartDisease(1) |              0.7400 |\n",
            "+-----------------+---------------------+\n",
            "+--------------+------------------+\n",
            "| ECGResult    |   phi(ECGResult) |\n",
            "+==============+==================+\n",
            "| ECGResult(0) |           0.3790 |\n",
            "+--------------+------------------+\n",
            "| ECGResult(1) |           0.6210 |\n",
            "+--------------+------------------+\n"
          ]
        }
      ]
    },
    {
      "cell_type": "markdown",
      "source": [
        "2. Posterior Probability Analysis"
      ],
      "metadata": {
        "id": "MPhruOoyOWcJ"
      }
    },
    {
      "cell_type": "code",
      "source": [
        "query_3 = infer.query(variables=['HeartDisease'], evidence={'Exercise': 1})\n",
        "print(query_3)"
      ],
      "metadata": {
        "colab": {
          "base_uri": "https://localhost:8080/"
        },
        "id": "pb8ZFQ4jOYqx",
        "outputId": "4d3ccfb2-4191-4017-92de-04658ccdc7a1"
      },
      "execution_count": 6,
      "outputs": [
        {
          "output_type": "stream",
          "name": "stdout",
          "text": [
            "+-----------------+---------------------+\n",
            "| HeartDisease    |   phi(HeartDisease) |\n",
            "+=================+=====================+\n",
            "| HeartDisease(0) |              0.4800 |\n",
            "+-----------------+---------------------+\n",
            "| HeartDisease(1) |              0.5200 |\n",
            "+-----------------+---------------------+\n"
          ]
        }
      ]
    },
    {
      "cell_type": "markdown",
      "source": [
        "# Exercise 5: Parameter Learning from Simulated Data"
      ],
      "metadata": {
        "id": "FB70KtmxOfOB"
      }
    },
    {
      "cell_type": "markdown",
      "source": [
        "1.Simulate a Healthcare Dataset"
      ],
      "metadata": {
        "id": "gXDMk87iOhWC"
      }
    },
    {
      "cell_type": "code",
      "source": [
        "data = pd.DataFrame({\n",
        "    'Age': np.random.choice(['Young', 'Middle-aged', 'Old'], 1000),\n",
        "    'Smoking': np.random.choice(['Yes', 'No'], 1000),\n",
        "    'Exercise': np.random.choice(['Regular', 'None'], 1000),\n",
        "    'Cholesterol': np.random.choice(['High', 'Normal'], 1000),\n",
        "    'Blood Pressure': np.random.choice(['High', 'Normal'], 1000),\n",
        "})\n",
        "\n",
        "def determine_health_conditions(row):\n",
        "    if row['Smoking'] == 'Yes' and row['Cholesterol'] == 'High':\n",
        "        row['Heart Disease'] = 'Yes' if np.random.rand() < 0.7 else 'No'\n",
        "    else:\n",
        "        row['Heart Disease'] = 'Yes' if np.random.rand() < 0.2 else 'No'\n",
        "\n",
        "    row['Chest Pain'] = 'Yes' if row['Heart Disease'] == 'Yes' and np.random.rand() < 0.5 else 'No'\n",
        "    row['ECG Result'] = 'Abnormal' if row['Heart Disease'] == 'Yes' and np.random.rand() < 0.6 else 'Normal'\n",
        "    return row\n",
        "\n",
        "data = data.apply(determine_health_conditions, axis=1)"
      ],
      "metadata": {
        "id": "Cpmn2bR5OkZZ"
      },
      "execution_count": 7,
      "outputs": []
    },
    {
      "cell_type": "markdown",
      "source": [
        "2.Estimate Parameters"
      ],
      "metadata": {
        "id": "N_gphOhUO_LJ"
      }
    },
    {
      "cell_type": "code",
      "source": [
        "import pandas as pd\n",
        "\n",
        "data = {\n",
        "    'Heart_Disease': [1, 0, 1, 1, 0, 0, 1, 0, 1, 0],\n",
        "    'Chest_Pain': [1, 0, 1, 1, 0, 0, 1, 0, 1, 0],\n",
        "    'ECG_Result': [1, 0, 1, 0, 0, 1, 1, 0, 1, 0]\n",
        "}\n",
        "df = pd.DataFrame(data)\n",
        "\n",
        "def calculate_cpt(df, target_node, condition_nodes):\n",
        "    cpt = {}\n",
        "\n",
        "    grouped = df.groupby(condition_nodes)[target_node].value_counts(normalize=True).unstack(fill_value=0)\n",
        "\n",
        "    for index in grouped.index:\n",
        "        cpt[index] = grouped.loc[index].to_dict()\n",
        "\n",
        "    return cpt\n",
        "\n",
        "cpt_heart_disease = calculate_cpt(df, 'Heart_Disease', ['Chest_Pain', 'ECG_Result'])\n",
        "cpt_chest_pain = calculate_cpt(df, 'Chest_Pain', ['Heart_Disease', 'ECG_Result'])\n",
        "cpt_ecg_result = calculate_cpt(df, 'ECG_Result', ['Heart_Disease', 'Chest_Pain'])\n",
        "\n",
        "# Displaying the learned CPTs\n",
        "print(\"Learned CPT for Heart Disease:\")\n",
        "print(cpt_heart_disease)\n",
        "\n",
        "print(\"\\nLearned CPT for Chest Pain:\")\n",
        "print(cpt_chest_pain)\n",
        "\n",
        "print(\"\\nLearned CPT for ECG Result:\")\n",
        "print(cpt_ecg_result)\n",
        "\n",
        "# Example initial CPTs (these should be defined based on your prior knowledge)\n",
        "initial_cpt_heart_disease = { (0,0): 0.2, (0,1): 0.3, (1,0): 0.5 }\n",
        "initial_cpt_chest_pain = { (0,0): 0.4, (1,1): 0.6 }\n",
        "initial_cpt_ecg_result = { (1,0): 0.7 }\n",
        "\n",
        "# Function to compare learned and initial CPTs\n",
        "def compare_cpts(learned_cpt, initial_cpt):\n",
        "    comparison = {}\n",
        "    for key in learned_cpt.keys():\n",
        "        comparison[key] = {\n",
        "            'Initial': initial_cpt.get(key),\n",
        "            'Learned': learned_cpt[key]\n",
        "        }\n",
        "    return comparison\n",
        "\n",
        "# Comparing learned and initial CPTs\n",
        "comparison_heart_disease = compare_cpts(cpt_heart_disease, initial_cpt_heart_disease)\n",
        "comparison_chest_pain = compare_cpts(cpt_chest_pain, initial_cpt_chest_pain)\n",
        "comparison_ecg_result = compare_cpts(cpt_ecg_result, initial_cpt_ecg_result)\n",
        "\n",
        "print(\"\\nComparison of Heart Disease CPT:\")\n",
        "print(comparison_heart_disease)\n",
        "\n",
        "print(\"\\nComparison of Chest Pain CPT:\")\n",
        "print(comparison_chest_pain)\n",
        "\n",
        "print(\"\\nComparison of ECG Result CPT:\")\n",
        "print(comparison_ecg_result)"
      ],
      "metadata": {
        "colab": {
          "base_uri": "https://localhost:8080/"
        },
        "id": "l3r6KHHRPB7B",
        "outputId": "a942ab30-d29b-47e9-d3f0-f0eec05c607a"
      },
      "execution_count": 8,
      "outputs": [
        {
          "output_type": "stream",
          "name": "stdout",
          "text": [
            "Learned CPT for Heart Disease:\n",
            "{(0, 0): {0: 1.0, 1: 0.0}, (0, 1): {0: 1.0, 1: 0.0}, (1, 0): {0: 0.0, 1: 1.0}, (1, 1): {0: 0.0, 1: 1.0}}\n",
            "\n",
            "Learned CPT for Chest Pain:\n",
            "{(0, 0): {0: 1.0, 1: 0.0}, (0, 1): {0: 1.0, 1: 0.0}, (1, 0): {0: 0.0, 1: 1.0}, (1, 1): {0: 0.0, 1: 1.0}}\n",
            "\n",
            "Learned CPT for ECG Result:\n",
            "{(0, 0): {0: 0.8, 1: 0.2}, (1, 1): {0: 0.2, 1: 0.8}}\n",
            "\n",
            "Comparison of Heart Disease CPT:\n",
            "{(0, 0): {'Initial': 0.2, 'Learned': {0: 1.0, 1: 0.0}}, (0, 1): {'Initial': 0.3, 'Learned': {0: 1.0, 1: 0.0}}, (1, 0): {'Initial': 0.5, 'Learned': {0: 0.0, 1: 1.0}}, (1, 1): {'Initial': None, 'Learned': {0: 0.0, 1: 1.0}}}\n",
            "\n",
            "Comparison of Chest Pain CPT:\n",
            "{(0, 0): {'Initial': 0.4, 'Learned': {0: 1.0, 1: 0.0}}, (0, 1): {'Initial': None, 'Learned': {0: 1.0, 1: 0.0}}, (1, 0): {'Initial': None, 'Learned': {0: 0.0, 1: 1.0}}, (1, 1): {'Initial': 0.6, 'Learned': {0: 0.0, 1: 1.0}}}\n",
            "\n",
            "Comparison of ECG Result CPT:\n",
            "{(0, 0): {'Initial': None, 'Learned': {0: 0.8, 1: 0.2}}, (1, 1): {'Initial': None, 'Learned': {0: 0.2, 1: 0.8}}}\n"
          ]
        }
      ]
    },
    {
      "cell_type": "markdown",
      "source": [
        "# Exercise 6: Network Visualization and Analysis"
      ],
      "metadata": {
        "id": "IWlRbk-jPGpZ"
      }
    },
    {
      "cell_type": "markdown",
      "source": [
        "1.Visualize the Network"
      ],
      "metadata": {
        "id": "NbOfSH8rPHz5"
      }
    },
    {
      "cell_type": "code",
      "source": [
        "#Creating Graph\n",
        "\n",
        "nx_graph = nx.DiGraph(model.edges())\n",
        "\n",
        "nx.draw(nx_graph, with_labels=True)\n",
        "plt.show()"
      ],
      "metadata": {
        "colab": {
          "base_uri": "https://localhost:8080/",
          "height": 516
        },
        "id": "qyeaFHrMPKIh",
        "outputId": "a4be54b0-e6e8-4663-a410-8616b7d4acdf"
      },
      "execution_count": 10,
      "outputs": [
        {
          "output_type": "display_data",
          "data": {
            "text/plain": [
              "<Figure size 640x480 with 1 Axes>"
            ],
            "image/png": "[encoded data removed]"
          },
          "metadata": {}
        }
      ]
    },
    {
      "cell_type": "markdown",
      "source": [
        "2.Sensitivity Analysis"
      ],
      "metadata": {
        "id": "GcJYvAscPT-p"
      }
    },
    {
      "cell_type": "code",
      "source": [
        "smoking_values = [0, 1]\n",
        "probabilities = []\n",
        "\n",
        "for smoking in smoking_values:\n",
        "    prob_heart_disease = infer.query(variables=['HeartDisease'], evidence={'Smoking': smoking})\n",
        "    probabilities.append(prob_heart_disease)\n",
        "\n",
        "plt.bar(['No Smoking', 'Smoking'], [prob.values[1] for prob in probabilities])\n",
        "plt.ylabel('Probability of Heart Disease')\n",
        "plt.show()"
      ],
      "metadata": {
        "colab": {
          "base_uri": "https://localhost:8080/",
          "height": 430
        },
        "id": "z77A9EpcPWVB",
        "outputId": "90aaa73c-ac58-4d37-c438-f257e1389229"
      },
      "execution_count": 11,
      "outputs": [
        {
          "output_type": "display_data",
          "data": {
            "text/plain": [
              "<Figure size 640x480 with 1 Axes>"
            ],
            "image/png": "[encoded data removed]"
          },
          "metadata": {}
        }
      ]
    },
    {
      "cell_type": "code",
      "source": [],
      "metadata": {
        "id": "I0_EW5s9PNbY"
      },
      "execution_count": null,
      "outputs": []
    }
  ]
}